{
 "cells": [
  {
   "cell_type": "code",
   "execution_count": null,
   "metadata": {},
   "outputs": [],
   "source": [
    "import pandas as pd\n",
    "import numpy as np\n",
    "import matplotlib.pyplot as plt\n",
    "import statsmodels.api as sm"
   ]
  },
  {
   "cell_type": "markdown",
   "metadata": {},
   "source": [
    "## Loading dataset\n",
    "The data set contains information about money spent on advertisement and the generated sales. Money was spent on TV, radio and newspaper ads.\n",
    "The objective is to use linear regression to understand how advertisement spending impacts sales."
   ]
  },
  {
   "cell_type": "code",
   "execution_count": null,
   "metadata": {},
   "outputs": [],
   "source": [
    "data = pd.read_csv(\"data/Advertising.csv\")"
   ]
  },
  {
   "cell_type": "markdown",
   "metadata": {},
   "source": [
    "## Simple linear regression\n",
    "First, we want to see how well we can predict sales given only the money spent on TV ads. Below visualize sales as a function of money spent on TV ads."
   ]
  },
  {
   "cell_type": "code",
   "execution_count": null,
   "metadata": {},
   "outputs": [],
   "source": [
    "plt.figure(figsize=(16, 8))\n",
    "plt.scatter(\n",
    "    data['TV'],\n",
    "    data['sales'],\n",
    "    c='black'\n",
    ")\n",
    "plt.xlabel(\"Money spent on TV ads ($)\")\n",
    "plt.ylabel(\"Sales ($)\")\n",
    "plt.show()"
   ]
  },
  {
   "cell_type": "markdown",
   "metadata": {},
   "source": [
    "First we are interested in finding the best approximation $y_i \\approx \\beta x_i$, where $y_i,x_i\\in\\mathbb{R}$ are sales and money spent on TV ads. We want to find the constant $\\beta$ that minimizes $\\sum_{i=1}^n (y_i - \\beta x_i)^2$."
   ]
  },
  {
   "cell_type": "code",
   "execution_count": null,
   "metadata": {},
   "outputs": [],
   "source": [
    "y = data['sales'].values\n",
    "X_simple = data['TV'].values\n",
    "beta_simple = # TODO: fill in\n",
    "print(\"The linear model is: Y = {:.5}X\".format(beta_simple))"
   ]
  },
  {
   "cell_type": "markdown",
   "metadata": {},
   "source": [
    "Given this $\\beta$, we compute the predictions for the points $x_i$ we have in the data set as $\\beta x_i$."
   ]
  },
  {
   "cell_type": "code",
   "execution_count": null,
   "metadata": {},
   "outputs": [],
   "source": [
    "predictions_simple = # TODO: fill in"
   ]
  },
  {
   "cell_type": "markdown",
   "metadata": {},
   "source": [
    "Now we plot our predictions to see how well they fit the data."
   ]
  },
  {
   "cell_type": "code",
   "execution_count": null,
   "metadata": {},
   "outputs": [],
   "source": [
    "plt.figure(figsize=(16, 8))\n",
    "plt.scatter(\n",
    "    data['TV'],\n",
    "    data['sales'],\n",
    "    c='black'\n",
    ")\n",
    "plt.plot(\n",
    "    data['TV'],\n",
    "    predictions_simple,\n",
    "    c='blue',\n",
    "    linewidth=2\n",
    ")\n",
    "plt.xlabel(\"Money spent on TV ads ($)\")\n",
    "plt.ylabel(\"Sales ($)\")\n",
    "plt.show()"
   ]
  },
  {
   "cell_type": "markdown",
   "metadata": {},
   "source": [
    "We typically want to quantify the quality of learned models. In this lab, we will use the root mean squared error (RMSE), defined as $RMSE = \\sqrt{\\frac{1}{n}\\sum_{i=1}^n (y_i - \\hat y_i)^2}$, where $y_i$ are the actual outcomes and $\\hat y_i$ are our predictions. "
   ]
  },
  {
   "cell_type": "code",
   "execution_count": null,
   "metadata": {},
   "outputs": [],
   "source": [
    "def RMSE(preds, true_y):\n",
    "    RMSE = # TODO: fill in\n",
    "    return RMSE"
   ]
  },
  {
   "cell_type": "markdown",
   "metadata": {},
   "source": [
    "Compute the RMSE of our first model."
   ]
  },
  {
   "cell_type": "code",
   "execution_count": null,
   "metadata": {},
   "outputs": [],
   "source": [
    "print(\"The RMSE of our model is: {}\".format(RMSE(y, predictions_simple)))"
   ]
  },
  {
   "cell_type": "markdown",
   "metadata": {},
   "source": [
    "Now we check if adding an intercept term helps; we want to approximate $y_i \\approx \\beta_0 + \\beta_1 x_i$, where $y_i,x_i\\in\\mathbb{R}$ are sales and money spent on TV ads. We find $\\beta=(\\beta_0,\\beta_1)$ which minimizes $\\sum_{i=1}^n (y_i - \\beta_0 - \\beta_1 x_i)^2$. We will augment the data matrix with a constant, so that every observation is $x_i=(1,x_i(1))=(x_i(0),x_i(1))$ and we minimize $\\sum_{i=1}^n (y_i - \\beta_0 x_i(0) - \\beta_1 x_i(1))^2$."
   ]
  },
  {
   "cell_type": "code",
   "execution_count": null,
   "metadata": {},
   "outputs": [],
   "source": [
    "X_simple_w_constant = sm.add_constant(X_simple) # augmenting the data matrix with a constant\n",
    "beta_w_constant = # TODO: fill in\n",
    "print(\"The linear model is: Y = {:.5} + {:.5}X\".format(beta_w_constant[0], beta_w_constant[1]))"
   ]
  },
  {
   "cell_type": "markdown",
   "metadata": {},
   "source": [
    "Given this $\\beta$, we compute the predictions for the points $x_i$ we have in the data set as $\\beta_0x_i(0) + \\beta_1 x_i(1)$."
   ]
  },
  {
   "cell_type": "code",
   "execution_count": null,
   "metadata": {},
   "outputs": [],
   "source": [
    "predictions_w_constant = # TODO: fill in"
   ]
  },
  {
   "cell_type": "markdown",
   "metadata": {},
   "source": [
    "Now we plot our predictions to see how well they fit the data."
   ]
  },
  {
   "cell_type": "code",
   "execution_count": null,
   "metadata": {},
   "outputs": [],
   "source": [
    "plt.figure(figsize=(16, 8))\n",
    "plt.scatter(\n",
    "    data['TV'],\n",
    "    data['sales'],\n",
    "    c='black'\n",
    ")\n",
    "plt.plot(\n",
    "    data['TV'],\n",
    "    predictions_w_constant,\n",
    "    c='blue',\n",
    "    linewidth=2\n",
    ")\n",
    "plt.xlabel(\"Money spent on TV ads ($)\")\n",
    "plt.ylabel(\"Sales ($)\")\n",
    "plt.show()"
   ]
  },
  {
   "cell_type": "markdown",
   "metadata": {},
   "source": [
    "Again we compute the RMSE of our model."
   ]
  },
  {
   "cell_type": "code",
   "execution_count": null,
   "metadata": {},
   "outputs": [],
   "source": [
    "print(\"The RMSE of our model is: {}\".format(RMSE(y, predictions_w_constant)))"
   ]
  },
  {
   "cell_type": "markdown",
   "metadata": {},
   "source": [
    "## Transforming the features"
   ]
  },
  {
   "cell_type": "markdown",
   "metadata": {},
   "source": [
    "Looking at the data, it seems that the square root function might fit the mapping from TV ads to sales better. We can still use the linear regression formula; we just need to transform the feature TV ads to sqrt(TV ads). Find the model to approximate $y_i \\approx \\beta_0 + \\beta_1 \\sqrt{x_i}$."
   ]
  },
  {
   "cell_type": "code",
   "execution_count": null,
   "metadata": {},
   "outputs": [],
   "source": [
    "X_sqrt_w_constant = sm.add_constant(np.sqrt(X_simple))\n",
    "beta_sqrt_w_constant = # TODO: fill in\n",
    "print(\"The linear model is: Y = {:.5} + {:.5}sqrt(X)\".format(beta_sqrt_w_constant[0], beta_sqrt_w_constant[1]))"
   ]
  },
  {
   "cell_type": "markdown",
   "metadata": {},
   "source": [
    "As before, compute the predictions."
   ]
  },
  {
   "cell_type": "code",
   "execution_count": null,
   "metadata": {},
   "outputs": [],
   "source": [
    "predictions_sqrt_w_constant = # TODO: fill in"
   ]
  },
  {
   "cell_type": "markdown",
   "metadata": {},
   "source": [
    "Now we compute the RMSE of this model."
   ]
  },
  {
   "cell_type": "code",
   "execution_count": null,
   "metadata": {},
   "outputs": [],
   "source": [
    "print(\"The RMSE of our model is: {}\".format(RMSE(y, predictions_sqrt_w_constant)))"
   ]
  },
  {
   "cell_type": "markdown",
   "metadata": {},
   "source": [
    "## Multivariate linear regression\n",
    "Now we will try predicting the sales given the money spent on TV, radio and newspaper ads. In this case, unfortunately, we can't visualize the whole data set."
   ]
  },
  {
   "cell_type": "markdown",
   "metadata": {},
   "source": [
    "We want to approximate $y_i \\approx \\beta^\\top x_i$, where $y_i\\in\\mathbb{R}$ is sales, and $x_i\\in\\mathbb{R}^4$ is money spent on TV, radio and newspaper ads, already augmented with a constant 1. We want to find the vector $\\beta$ that minimizes $\\sum_{i=1}^n (y_i - \\beta^\\top x_i)$."
   ]
  },
  {
   "cell_type": "code",
   "execution_count": null,
   "metadata": {},
   "outputs": [],
   "source": [
    "Xs = data.drop(['sales', 'Unnamed: 0'], axis=1)\n",
    "X_multi = Xs.values\n",
    "X_multi = sm.add_constant(X_multi) # augmenting the data matrix with a constant\n",
    "beta_multi = # TODO: fill in\n",
    "print(\"The linear model is: Y = {:.5} + {:.5}*TV + {:.5}*radio + {:.5}*newspaper\".format(beta_multi[0], beta_multi[1], beta_multi[2], beta_multi[3]))"
   ]
  },
  {
   "cell_type": "markdown",
   "metadata": {},
   "source": [
    "Now we compute the predictions:"
   ]
  },
  {
   "cell_type": "code",
   "execution_count": null,
   "metadata": {},
   "outputs": [],
   "source": [
    "predictions_multi = # TODO: fill in"
   ]
  },
  {
   "cell_type": "markdown",
   "metadata": {},
   "source": [
    "We compute the RMSE of the final model:"
   ]
  },
  {
   "cell_type": "code",
   "execution_count": null,
   "metadata": {},
   "outputs": [],
   "source": [
    "print(\"The RMSE of our model is: {}\".format(RMSE(y, predictions_multi)))"
   ]
  },
  {
   "cell_type": "markdown",
   "metadata": {},
   "source": [
    "Summarize your observations in 2-3 sentences."
   ]
  },
  {
   "cell_type": "markdown",
   "metadata": {},
   "source": []
  }
 ],
 "metadata": {
  "kernelspec": {
   "display_name": "Python 3",
   "language": "python",
   "name": "python3"
  },
  "language_info": {
   "codemirror_mode": {
    "name": "ipython",
    "version": 3
   },
   "file_extension": ".py",
   "mimetype": "text/x-python",
   "name": "python",
   "nbconvert_exporter": "python",
   "pygments_lexer": "ipython3",
   "version": "3.6.4"
  }
 },
 "nbformat": 4,
 "nbformat_minor": 2
}

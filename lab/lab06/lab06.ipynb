{
 "cells": [
  {
   "cell_type": "markdown",
   "metadata": {},
   "source": [
    "# Lab 6: Confidence and Credible Intervals\n",
    "Welcome to the sixth DS102 lab! \n",
    "\n",
    "The goals of this lab is to get a better understanding of confidence resulting from the Chebyshev and Hoeffding bounds we have seen in Lecture.\n",
    "\n",
    "The code you need to write is commented out with a message \"TODO: fill in\". There is additional documentation for each part as you go along.\n",
    "\n",
    "\n",
    "## Course Policies\n",
    "\n",
    "**Collaboration Policy**\n",
    "\n",
    "Data science is a collaborative activity. While you may talk with others about the labs, we ask that you **write your solutions individually**. If you do discuss the assignments with others please **include their names** in the cell below.\n",
    "\n",
    "**Submission**: to submit this assignment, rerun the notebook from scratch (by selecting Kernel > Restart & Run all), and then print as a pdf (File > download as > pdf) and submit it to Gradescope.\n",
    "\n",
    "\n",
    "**This assignment should be completed and submitted before Wednesday October 23, 2019 at 11:59 PM.** This is intentionally one day later than usual since the homework is due on Tuesday."
   ]
  },
  {
   "cell_type": "markdown",
   "metadata": {},
   "source": [
    "Write collaborator names here."
   ]
  },
  {
   "cell_type": "code",
   "execution_count": null,
   "metadata": {},
   "outputs": [],
   "source": [
    "%pylab inline\n",
    "import matplotlib.pyplot as plt\n",
    "import matplotlib.patches as patches \n",
    "import numpy as np\n",
    "import scipy.stats\n",
    "import seaborn as sns"
   ]
  },
  {
   "cell_type": "code",
   "execution_count": null,
   "metadata": {},
   "outputs": [],
   "source": [
    "# Define the alpha and beta for the beta distribution\n",
    "alpha=1.5\n",
    "beta=1.5\n",
    "\n",
    "#Plots the confidence interval, using the number of samples.\n",
    "def visualize_confidence_interval(samples,alpha,beta,ci,c, title ,ci_label,plot_dist=1,linestyle='--'):\n",
    "    \"\"\"\n",
    "    Visualizes confidence interval. Plots underlying Beta distribution given alpha and beta,\n",
    "    and then visualizes the confidence interval. \n",
    "    \n",
    "    Parameters\n",
    "    ----------\n",
    "    samples: list of samples\n",
    "    \n",
    "    alpha,beta: parameters of beta distribution\n",
    "    \n",
    "    ci: computed confidence level such that the interval [c1,c2] captures the mean with \n",
    "        probability at least 1-delta.\n",
    "    \n",
    "    c: color of confidence interval\n",
    "    \n",
    "    title: title of plot\n",
    "    \n",
    "    ci_label: string for the type of confidence interval\n",
    "    \n",
    "    \"\"\"\n",
    "    #If visualize distribution\n",
    "    if plot_dist:\n",
    "        sns.kdeplot(np.random.beta(alpha,beta,(50000,)),shade=False,lw=3,label='p.d.f')\n",
    "        plt.plot([np.mean(samples),np.mean(samples)],[0,3.0],'k',lw=2, label='Sample mean')\n",
    "        plt.plot([alpha/(alpha+beta),alpha/(alpha+beta)],[0,3.0],'darkred',lw=2, label='True mean')\n",
    "        plt.title(title) \n",
    "        \n",
    "    #Visualize confidnce interval\n",
    "    plt.text(x=0.1,y=-0.15,s='Mean is in the shaded area at least 95% of the time')\n",
    "    rect=patches.Rectangle([ci[0],0], ci[1]-ci[0], 3.0, color=c,alpha=0.25,ls=linestyle)\n",
    "    plt.gca().add_patch(rect)\n",
    "    plt.plot([ci[0],ci[0]],[0,3.0],c,ls=linestyle,lw=2,label=ci_label)\n",
    "    plt.plot([ci[1],ci[1]],[0,3.0],c,ls=linestyle,lw=2)\n",
    "    plt.ylim([-0.2,3.0])\n",
    "    plt.xlim([0,1.0])\n",
    "    plt.legend(loc='upper right')  \n",
    "    return"
   ]
  },
  {
   "cell_type": "markdown",
   "metadata": {},
   "source": [
    "## Chebyshev Confidence Intervals\n",
    "\n",
    "In this lab we are interested in building confidence intervals for the mean of the distribution. These are intervals $CI=[c_1(X),c_2(X)]$ such that, with probability at least $1-\\delta$, the mean $\\mu=\\mathbb{E}[X]$ is captured in CI. That is: \n",
    "\n",
    "$$ \\mathbb{P}(c_1(X)<\\mu<c_2(X))\\ge 1-\\delta$$\n",
    "\n",
    "\n",
    "We will begin by analyzing the Chebyshev bound, which is given by:\n",
    "\n",
    "$$\\mathbb{P}(|X-\\mu| > \\epsilon) \\le \\frac{Var(X)}{\\epsilon^2},$$\n",
    "\n",
    "where $\\epsilon>0$.\n",
    "\n",
    "Rearranging, we can see that this bound can be used to construct a confidence interval:\n",
    "\n",
    "$$\\mathbb{P}(|X-\\mu| \\le  \\epsilon)  \\ge 1-\\frac{Var(X)}{\\epsilon^2}\\\\\n",
    "\\mathbb{P}( X-\\epsilon \\le \\mu\\le X+\\epsilon) \\ge 1-\\frac{Var(X)}{\\epsilon^2}$$\n",
    "\n",
    "\n",
    "Therefore, the Chebyshev bounds guarantees us that with probability at least $1-\\frac{Var(X)}{\\epsilon^2}$, the mean $\\mu$ is in the interval: \n",
    "\n",
    "$$[c_1(X),c_2(X)]= [X-\\epsilon,X+\\epsilon]$$.\n",
    "\n",
    "Notice, that for the Chebyshev bound, we only require knowledge of the variance of the distribution to derive a confidence interval for the mean $\\mathbb{E}[X]$. \n",
    "\n",
    "\n",
    "Fill out the following function that returns the confidence interval for the mean that is guaranteed with probability at least $1-\\delta$ by the Chebyshev bound. \n",
    "\n"
   ]
  },
  {
   "cell_type": "code",
   "execution_count": null,
   "metadata": {},
   "outputs": [],
   "source": [
    "def confidence_interval_Chebyshev(x,variance,delta):\n",
    "    \"\"\"\n",
    "    Given the sample, variance, and desired confidence level, returns the interval [c1,c2], that \n",
    "    captures the mean with probability at least 1-delta.\n",
    "    \n",
    "    \n",
    "    Parameters\n",
    "    ----------\n",
    "    x : sample\n",
    "    \n",
    "    variance: variance of distribution\n",
    "\n",
    "    delta : confidence level such that the interval [c1,c2] captures the mean with probability at least 1-delta.\n",
    "    \n",
    "    Returns\n",
    "    -------\n",
    "    [c1,c2]: where c1, and c2 are the lower and upper bounds of the confidence interval\n",
    "    \n",
    "    \"\"\"\n",
    "\n",
    "    c1=#TODO: fill this in\n",
    "    c2= #TODO: fill this in\n",
    "    return [c1,c2]"
   ]
  },
  {
   "cell_type": "markdown",
   "metadata": {},
   "source": [
    "## 1: Chebyshev Confidence Interval for the Beta Distribution\n",
    "\n",
    "In this lab we will be interested in constructing confidence intervals for data coming from a $Beta$ distribution. Remember that the $Beta$ is parametrized by two parameters $\\alpha>0, \\beta>0$ and the density is given by:\n",
    "\n",
    "$$Beta(x;\\alpha,\\beta)=\\frac{\\Gamma(\\alpha+\\beta)}{\\Gamma(\\alpha)\\Gamma(\\beta)}x^{\\alpha-1}(1-x)^{\\beta-1}$$\n",
    "\n",
    "where $0<x<1$. The mean and variance of the $Beta$ distribution are given by:\n",
    "\n",
    "$$ \\mu=\\mathbb{E}[X]=\\frac{\\alpha}{\\alpha+\\beta}$$\n",
    "$$ \\sigma^2=Var[X]=\\frac{\\alpha\\beta}{(\\alpha+\\beta)^2(\\alpha+\\beta+1)}$$\n",
    "\n",
    "We will assume that we know the variance $\\sigma^2$ of the distribution, but not the mean, and that we get $n$ i.i.d samples $X_1,...,X_n$ from the distribution. \n",
    "\n",
    "We would like to use our Chebyshev confidence interval function to construct a confidence interval from the sample mean $\\bar X$ defined as:\n",
    "\n",
    "$$ \\bar X= \\frac{1}{n}\\sum_{i=1}^n X_i $$,\n",
    "\n",
    "Note, that the variance of the sample mean is given by:\n",
    "\n",
    "$$ \\sigma_n^2 = \\frac{\\sigma^2}{n} $$\n",
    "\n",
    "Fill our the following function that takes in the samples, the variance of the distribution, and returns the confidence interval around the sample mean. We will make use of the function you filled out above."
   ]
  },
  {
   "cell_type": "code",
   "execution_count": null,
   "metadata": {},
   "outputs": [],
   "source": [
    "def confidence_interval_Chebyshev_sample_mean(samples,variance,delta):\n",
    "    \"\"\"\n",
    "    Given the samples, variance, and desired confidence level, returns the interval [c1,c2], that \n",
    "    captures the mean with probability at least 1-delta.\n",
    "    \n",
    "    \n",
    "    Parameters\n",
    "    ----------\n",
    "    x : sample\n",
    "    \n",
    "    variance: variance of distribution\n",
    "\n",
    "    delta : confidence level such that the interval [c1,c2] captures the mean with probability at least 1-delta.\n",
    "    \n",
    "    Returns\n",
    "    -------\n",
    "    [c1,c2]: where c1, and c2 are the lower and upper bounds of the confidence interval\n",
    "    \"\"\"\n",
    "    n=len(samples)\n",
    "    sample_mean=#TODO: fill this in\n",
    "    sample_mean_variance = #TODO: fill this in\n",
    "    return confidence_interval_Chebyshev(sample_mean,sample_mean_variance,delta)"
   ]
  },
  {
   "cell_type": "markdown",
   "metadata": {},
   "source": [
    "Run the following code to see the $95 \\%$ confidence intervals with different numbers of samples from the same distribution."
   ]
  },
  {
   "cell_type": "code",
   "execution_count": null,
   "metadata": {},
   "outputs": [],
   "source": [
    "#Compute the variance of the Beta distribution given alpha and beta\n",
    "variance=alpha*beta/((alpha+beta)**2*(alpha+beta+1))\n",
    "\n",
    "#1 sample from distribution\n",
    "x1= np.random.beta(alpha,beta,(1,))\n",
    "\n",
    "#10 samples from distribution\n",
    "x10= np.random.beta(alpha,beta,(10,))\n",
    "\n",
    "#50 samples from distribution\n",
    "x50= np.random.beta(alpha,beta,(50,))\n",
    "\n",
    "#Compute the 95% confidence intervals for each set of samples using the Chebyshev Bounds.\n",
    "delta=0.05\n",
    "chebyshev_ci_1_sample=confidence_interval_Chebyshev_sample_mean(x1,variance,delta)\n",
    "chebyshev_ci_10_samples=confidence_interval_Chebyshev_sample_mean(x10,variance,delta)\n",
    "chebyshev_ci_50_samples=confidence_interval_Chebyshev_sample_mean(x50,variance,delta)\n",
    "\n",
    "\n",
    "#Visualize the 95% confidence intervals for each set of samples\n",
    "plt.figure()\n",
    "visualize_confidence_interval(x1,alpha,beta,chebyshev_ci_1_sample,'darkgreen','1 Sample', 'Chebyshev CI')\n",
    "\n",
    "xlabel='#TODO: fill this in'\n",
    "ylabel='#TODO: fill this in'\n",
    "plt.xlabel(xlabel)\n",
    "plt.ylabel(ylabel)\n",
    "\n",
    "plt.figure()\n",
    "visualize_confidence_interval(x10,alpha,beta,chebyshev_ci_10_samples,'darkgreen','10 Samples','Chebyshev CI')\n",
    "plt.xlabel(xlabel)\n",
    "plt.ylabel(ylabel)\n",
    "\n",
    "plt.figure()\n",
    "visualize_confidence_interval(x50,alpha,beta,chebyshev_ci_50_samples,'darkgreen','50 Samples','Chebyshev CI')\n",
    "plt.xlabel(xlabel)\n",
    "plt.ylabel(ylabel)\n",
    "\n"
   ]
  },
  {
   "cell_type": "markdown",
   "metadata": {},
   "source": [
    "## 2. Frequentist Properties of Confidence Intervals\n",
    "\n",
    "In the following function, we will test out frequentist properties of confidence intervals. Fill out the following function, which generates $10,000$ sets of $10$ samples from a $Beta(\\alpha,\\beta)$ distribution, and counts the number of times the confidence interval you calculated above captures the mean."
   ]
  },
  {
   "cell_type": "code",
   "execution_count": null,
   "metadata": {},
   "outputs": [],
   "source": [
    "def test_confidence_intervals(confidence_interval_function, alpha,beta,delta,bound_type='Chebyshev'):\n",
    "    \"\"\"\n",
    "    Counts the number of times (out of 10,000) the confidence interval calculated using a \n",
    "    confidence_interval_function captures the true mean.\n",
    "    \n",
    "    \n",
    "    Parameters\n",
    "    ----------\n",
    "    confidence_interval_function  : a function that computes the confidence interval given the \n",
    "                                    sample, variance, and level\n",
    "    \n",
    "    alpha, beta: parameters of beta distribution\n",
    "\n",
    "    delta : confidence level such that the interval [c1,c2] captures the mean with probability at least 1-delta.\n",
    "    \n",
    "    Returns\n",
    "    -------\n",
    "    count: number of times the confidence interval captured the true mean.\n",
    "    \"\"\"\n",
    "    \n",
    "    #compute true mean and variance of beta distribution\n",
    "    mean=alpha/(alpha+beta)\n",
    "    variance=alpha*beta/((alpha+beta)**2*(alpha+beta+1))\n",
    "    \n",
    "    count=0\n",
    "    for test in range(10000):\n",
    "        #collect 10 samples\n",
    "        samples=np.random.beta(alpha,beta,(10,))\n",
    "        \n",
    "        #compute confidence interval\n",
    "        c1,c2=confidence_interval_function(samples,variance,delta)\n",
    "        \n",
    "        #check if confidence interval encompasses mean.\n",
    "        \n",
    "        #TODO: fill this in\n",
    "        \n",
    "        \n",
    "    print('#############################################################')\n",
    "    print(bound_type+r' Confidence Interval captured the mean: {}% of the time'.format(count/100.0))\n",
    "    print('#############################################################')\n",
    "    return "
   ]
  },
  {
   "cell_type": "markdown",
   "metadata": {},
   "source": [
    "Given this function, let us test out the frequentist properties of the Chebysehv confidence interval."
   ]
  },
  {
   "cell_type": "code",
   "execution_count": null,
   "metadata": {},
   "outputs": [],
   "source": [
    "test_confidence_intervals(confidence_interval_Chebyshev_sample_mean, alpha,beta,0.05)"
   ]
  },
  {
   "cell_type": "markdown",
   "metadata": {},
   "source": [
    "## 3. Confidence Intervals from Hoeffding Bounds\n",
    "In the previous sections, we constructed confidence intervals using the Chebyshev Bound. In this part we will use the Hoeffding Bound. Recall that the Hoeffding bound is defined for a bounded random variable. This means that there exists $a,b$ such that:\n",
    "\n",
    "$$\\mathbb{P}(a\\le X \\le b)=1$$. For such random variables the Hoeffding bound gives the following bound around the sample mean:\n",
    "\n",
    "$$ \\mathbb{P}(| \\bar X -\\mu| > \\epsilon ) \\le 2e^{-\\frac{2n^2\\epsilon^2}{\\sum_{i=1}^n(b-a)^2}}$$\n",
    "\n",
    "Note that this does not require any knowledge of the variance!\n",
    "\n",
    "Since the $Beta$ distribution is defined on $[0,1]$, it is a bounded random variable, and the Hoeffding bound gives:\n",
    "\n",
    "$$ \\mathbb{P}(| \\bar X -\\mu| > \\epsilon ) \\le 2e^{-2n\\epsilon^2}$$ \n",
    "\n",
    "Doing the exact same derivation as the Chebyshev inequality we can construct the following confidence interval for the mean:\n",
    "\n",
    "$$ \\mathbb{P}(\\bar X- \\epsilon \\le \\mu \\le \\bar X+ \\epsilon ) \\ge 1-2e^{-2n\\epsilon^2}$$.\n",
    "\n",
    "For a given confidence level $\\delta$, we get the following confidence interval:\n",
    "\n",
    "$$ \\mathbb{P}\\left(\\bar X- \\sqrt{\\frac{1}{2n}\\log{\\frac{2}{\\delta}}} \\le \\mu \\le \\bar X+ \\sqrt{\\frac{1}{2n}\\log{\\frac{2}{\\delta}}} \\right) \\ge 1-\\delta$$.\n",
    "\n",
    "Fill out the following function that returns the Hoeffding confidence interval from a list of samples."
   ]
  },
  {
   "cell_type": "code",
   "execution_count": null,
   "metadata": {},
   "outputs": [],
   "source": [
    "def confidence_interval_Hoeffding_sample_mean(samples,variance,delta):\n",
    "    \"\"\"\n",
    "    Given the samples and desired confidence level, returns the interval [c1,c2], that \n",
    "    captures the mean with probability at least 1-delta.\n",
    "    \n",
    "    \n",
    "    Parameters\n",
    "    ----------\n",
    "    x : sample\n",
    "\n",
    "    delta : confidence level such that the interval [c1,c2] captures the mean with probability at least 1-delta.\n",
    "    \n",
    "    Returns\n",
    "    -------\n",
    "    [c1,c2]: where c1, and c2 are the lower and upper bounds of the confidence interval\n",
    "    \"\"\"\n",
    "    c1=#TODO: fill this in\n",
    "    c2=#TODO: fill this in\n",
    "    return [c1,c2]"
   ]
  },
  {
   "cell_type": "code",
   "execution_count": null,
   "metadata": {},
   "outputs": [],
   "source": [
    "#Compute the 95% confidence intervals for each set of samples using the Hoeffding Bounds.\n",
    "hoeffding_ci_1_sample=confidence_interval_Hoeffding_sample_mean(x1,variance,delta)\n",
    "hoeffding_ci_10_samples=confidence_interval_Hoeffding_sample_mean(x10,variance,delta)\n",
    "hoeffding_ci_50_samples=confidence_interval_Hoeffding_sample_mean(x50,variance,delta)\n",
    "\n",
    "\n",
    "#Visualize both the Chebyshev and Hoeffding Confidence Intervals\n",
    "visualize_confidence_interval(x1,alpha,beta,chebyshev_ci_1_sample,'darkgreen','1 Sample','Chebyshev CI')\n",
    "visualize_confidence_interval(x1,alpha,beta,hoeffding_ci_1_sample,'gold','1 Samples','Hoeffding CI',False,'-')\n",
    "plt.xlabel(xlabel)\n",
    "plt.ylabel(ylabel)\n",
    "\n",
    "plt.figure()\n",
    "visualize_confidence_interval(x10,alpha,beta,chebyshev_ci_10_samples,'darkgreen','10 Samples','Chebyshev CI')\n",
    "visualize_confidence_interval(x10,alpha,beta,hoeffding_ci_10_samples,'gold','10 Samples', 'Hoeffding CI',False,'-')\n",
    "plt.xlabel(xlabel)\n",
    "plt.ylabel(ylabel)\n",
    "\n",
    "plt.figure()\n",
    "visualize_confidence_interval(x50,alpha,beta,chebyshev_ci_50_samples,'darkgreen','50 Samples','Chebyshev CI')\n",
    "visualize_confidence_interval(x50,alpha,beta,hoeffding_ci_50_samples,'gold','50 Samples','Hoeffding CI',False,'-')\n",
    "plt.xlabel(xlabel)\n",
    "plt.ylabel(ylabel)"
   ]
  },
  {
   "cell_type": "markdown",
   "metadata": {},
   "source": [
    "Let us test the frequentist properties of the Hoeffding Confidence Interval."
   ]
  },
  {
   "cell_type": "code",
   "execution_count": null,
   "metadata": {},
   "outputs": [],
   "source": [
    "test_confidence_intervals(confidence_interval_Hoeffding_sample_mean, alpha,beta,0.05, 'Hoeffding')"
   ]
  },
  {
   "cell_type": "markdown",
   "metadata": {},
   "source": [
    "## 4: Comparing the Hoeffding and Chebyshev Confidence Intervals\n",
    "### Lower Variance Beta Distribution\n",
    "\n",
    "Now let us compare the two confidence intervals when the variance of the distribution is lower:"
   ]
  },
  {
   "cell_type": "code",
   "execution_count": null,
   "metadata": {},
   "outputs": [],
   "source": [
    "#Define the parameters of the lower-variance beta distribution and compute its variance\n",
    "alpha=3.0\n",
    "beta=3.0\n",
    "variance=alpha*beta/((alpha+beta)**2*(alpha+beta+1))\n",
    "\n",
    "#Test the frequentist properties of the confidence intervals with this new distribution\n",
    "test_confidence_intervals(confidence_interval_Chebyshev_sample_mean, alpha,beta,0.05,'Chebyshev')\n",
    "test_confidence_intervals(confidence_interval_Hoeffding_sample_mean, alpha,beta,0.05,'Hoeffding')\n",
    "\n",
    "#Collect samples from this distribution.\n",
    "x20_lower_variance= np.random.beta(alpha,beta,(20,))\n",
    "\n",
    "#Compute and plot confidence intervals\n",
    "hoeffding_ci_lower_var=confidence_interval_Hoeffding_sample_mean(x20_lower_variance,variance,delta)\n",
    "chebyshev_ci_lower_var=confidence_interval_Chebyshev_sample_mean(x20_lower_variance,variance,delta)\n",
    "\n",
    "visualize_confidence_interval(x20_lower_variance,alpha,beta,chebyshev_ci_lower_var,'darkgreen','20 Samples','Chebyshev CI')\n",
    "visualize_confidence_interval(x20_lower_variance,alpha,beta,hoeffding_ci_lower_var,'gold','20 Samples','Hoeffding CI',False,'-')\n",
    "plt.xlabel(xlabel)\n",
    "plt.ylabel(ylabel)"
   ]
  },
  {
   "cell_type": "markdown",
   "metadata": {},
   "source": [
    "### Higher Variance Beta Distribution\n",
    "Now let us compare the two confidence intervals when the variance of the distribution is higher:"
   ]
  },
  {
   "cell_type": "code",
   "execution_count": null,
   "metadata": {},
   "outputs": [],
   "source": [
    "#Define the parameters of the lower-variance beta distribution and compute its variance\n",
    "alpha=0.25\n",
    "beta=0.2\n",
    "variance=alpha*beta/((alpha+beta)**2*(alpha+beta+1))\n",
    "\n",
    "#Test the frequentist properties of the confidence intervals with this new distribution\n",
    "test_confidence_intervals(confidence_interval_Chebyshev_sample_mean, alpha,beta,0.05,'Chebyshev')\n",
    "test_confidence_intervals(confidence_interval_Hoeffding_sample_mean, alpha,beta,0.05,'Hoeffding')\n",
    "\n",
    "#Collect samples from this distribution.\n",
    "x20_higher_variance= np.random.beta(alpha,beta,(60,))\n",
    "\n",
    "\n",
    "#Compute and plot confidence intervals\n",
    "hoeffding_ci_higher_var=confidence_interval_Hoeffding_sample_mean(x20_higher_variance,variance,delta)\n",
    "chebyshev_ci_higher_var=confidence_interval_Chebyshev_sample_mean(x20_higher_variance,variance,delta)\n",
    "\n",
    "visualize_confidence_interval(x20_higher_variance,alpha,beta,chebyshev_ci_higher_var,'darkgreen','20 Samples','Chebyshev CI')\n",
    "visualize_confidence_interval(x20_higher_variance,alpha,beta,hoeffding_ci_higher_var,'gold','20 Samples','Hoeffding CI',False,'-')\n",
    "plt.xlabel(xlabel)\n",
    "plt.ylabel(ylabel)"
   ]
  },
  {
   "cell_type": "markdown",
   "metadata": {},
   "source": [
    "## Part 5: Pros and Cons of Chebyshev and Hoeffding Bounds\n",
    "Fill out the cell below with your takeaways on the pros and cons for Chebyshev and Hoeffding Bounds."
   ]
  },
  {
   "cell_type": "markdown",
   "metadata": {},
   "source": [
    "#TODO: fill this in"
   ]
  }
 ],
 "metadata": {
  "kernelspec": {
   "display_name": "Python 3",
   "language": "python",
   "name": "python3"
  },
  "language_info": {
   "codemirror_mode": {
    "name": "ipython",
    "version": 3
   },
   "file_extension": ".py",
   "mimetype": "text/x-python",
   "name": "python",
   "nbconvert_exporter": "python",
   "pygments_lexer": "ipython3",
   "version": "3.6.4"
  }
 },
 "nbformat": 4,
 "nbformat_minor": 2
}
